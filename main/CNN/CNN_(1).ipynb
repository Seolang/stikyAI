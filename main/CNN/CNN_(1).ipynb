{
  "nbformat": 4,
  "nbformat_minor": 0,
  "metadata": {
    "kernelspec": {
      "display_name": "Python 3",
      "language": "python",
      "name": "python3"
    },
    "language_info": {
      "codemirror_mode": {
        "name": "ipython",
        "version": 3
      },
      "file_extension": ".py",
      "mimetype": "text/x-python",
      "name": "python",
      "nbconvert_exporter": "python",
      "pygments_lexer": "ipython3",
      "version": "3.6.9"
    },
    "colab": {
      "name": "CNN (1).ipynb",
      "provenance": [],
      "collapsed_sections": [],
      "include_colab_link": true
    }
  },
  "cells": [
    {
      "cell_type": "markdown",
      "metadata": {
        "id": "view-in-github",
        "colab_type": "text"
      },
      "source": [
        "<a href=\"https://colab.research.google.com/github/Seolang/stikyAI/blob/main/main/CNN/CNN_(1).ipynb\" target=\"_parent\"><img src=\"https://colab.research.google.com/assets/colab-badge.svg\" alt=\"Open In Colab\"/></a>"
      ]
    },
    {
      "cell_type": "code",
      "metadata": {
        "id": "iJ8mr5NCTaTM"
      },
      "source": [
        "from google.colab import drive\n",
        "#drive.mount('/content/drive')"
      ],
      "execution_count": 49,
      "outputs": []
    },
    {
      "cell_type": "code",
      "metadata": {
        "id": "6SYagQ0cGMJe"
      },
      "source": [
        "# one-hot encoder\n",
        "\n",
        "import numpy as np\n",
        "from collections import defaultdict\n",
        "\n",
        "def encode_one_hot(train_set, classes=\"AGCT\"):\n",
        "    encoder = defaultdict(lambda: np.array([0]*len(classes)))\n",
        "    pad = 9\n",
        "        \n",
        "    for i, _class in enumerate(classes):\n",
        "        tmp = np.zeros(len(classes))\n",
        "        tmp[i] = 1\n",
        "        encoder[_class] = tmp\n",
        "        \n",
        "    output = []\n",
        "    for record in train_set:\n",
        "        encoded_record = []\n",
        "        \n",
        "    output = []\n",
        "    for record in tqdm(train_set):\n",
        "        encoded_record = []\n",
        "        for i in range(pad):\n",
        "            encoded_record.append([.25, .25, .25, .25])\n",
        "        for c in record.upper():\n",
        "            encoded_record.append(encoder[c])\n",
        "        for i in range(pad):\n",
        "            encoded_record.append([.25, .25, .25, .25])\n",
        "            \n",
        "        output.append(encoded_record)\n",
        "        \n",
        "    output = np.array(output)\n",
        "    \n",
        "    return output"
      ],
      "execution_count": 50,
      "outputs": []
    },
    {
      "cell_type": "code",
      "metadata": {
        "id": "MMXnQAZDGMJh",
        "colab": {
          "base_uri": "https://localhost:8080/"
        },
        "outputId": "89521829-9bc1-44ea-dba0-c5849745a8a0"
      },
      "source": [
        "# Parsing\n",
        "import gzip\n",
        "from tqdm import tqdm\n",
        "from sklearn.model_selection import train_test_split\n",
        "from google.colab import files\n",
        "#myfile = files.upload()\n",
        "# single dataset version\n",
        "def get_dataset(path):\n",
        "    \n",
        "    dataset =  gzip.open(path, \"r\")\n",
        "    output = []    \n",
        "    for i, record in tqdm(enumerate(dataset)):\n",
        "        record = record.decode()\n",
        "        record = record[:-1]\n",
        "        record = record.split('\\t')\n",
        "        if i != 0:\n",
        "            output.append(record)\n",
        "    output = np.array(output).reshape([-1, 4])\n",
        "    \n",
        "    return encode_one_hot(output[:, 2]), np.array([int(i) for i in output[:, 3]]).flatten()\n",
        "\n",
        "x, y = get_dataset(\"/content/Alx1_DBD_TAAAGC20NCG_3_Z_B.seq.gz\")\n",
        "train_x, valid_x, train_y, valid_y = train_test_split(x, y, test_size = 0.33, random_state=112)\n",
        "\n",
        "del(x, y)\n",
        "\n",
        "print(train_x.shape)\n",
        "print(train_y.shape)\n",
        "\n",
        "print(valid_x.shape)\n",
        "print(valid_y.shape)"
      ],
      "execution_count": 51,
      "outputs": [
        {
          "output_type": "stream",
          "name": "stderr",
          "text": [
            "255509it [00:01, 235262.37it/s]\n",
            "100%|██████████| 255508/255508 [00:07<00:00, 33515.16it/s]\n"
          ]
        },
        {
          "output_type": "stream",
          "name": "stdout",
          "text": [
            "(171190, 38, 4)\n",
            "(171190,)\n",
            "(84318, 38, 4)\n",
            "(84318,)\n"
          ]
        }
      ]
    },
    {
      "cell_type": "code",
      "metadata": {
        "id": "FVzlyd1zGMJi",
        "colab": {
          "base_uri": "https://localhost:8080/"
        },
        "outputId": "e4377403-99b6-4c17-c0c9-57210b509de3"
      },
      "source": [
        "# train\n",
        "from tensorflow.keras.models import Sequential\n",
        "from tensorflow.keras.layers import Dropout, Dense, Conv1D, ReLU, MaxPooling1D, Flatten\n",
        "from tensorflow.keras.optimizers import Adam\n",
        "from tensorflow.keras import regularizers\n",
        "from tensorflow.keras.metrics import AUC\n",
        "from tensorflow.keras import backend as K\n",
        "\n",
        "K.clear_session()\n",
        "epoch = 10\n",
        "l2_rate = 1e-5\n",
        "lr = 0.001\n",
        "batch_size = 32\n",
        "\n",
        "model = Sequential()\n",
        "\n",
        "model.add(Conv1D(input_shape=train_x.shape[1:], \n",
        "                 filters=16, kernel_size=10, strides=1, \n",
        "                 kernel_regularizer=regularizers.l2(l2_rate)))\n",
        "\n",
        "model.add(ReLU())\n",
        "model.add(MaxPooling1D(pool_size=29))\n",
        "model.add(Flatten())\n",
        "\n",
        "model.add(Dense(32, kernel_regularizer=regularizers.l2(l2_rate)))\n",
        "model.add(ReLU())\n",
        "model.add(Dropout(rate=0.3))\n",
        "model.add(Dense(1, activation = 'sigmoid', kernel_regularizer=regularizers.l2(l2_rate)))\n",
        "\n",
        "adam = Adam(lr=lr)\n",
        "model.compile(loss='mse', optimizer=adam, metrics=[AUC(),'accuracy'])\n",
        "model.summary()\n",
        "\n",
        "history = model.fit(train_x, train_y, \n",
        "                    validation_data=(valid_x, valid_y), \n",
        "                    batch_size=batch_size, epochs=epoch, shuffle=True, verbose=1)"
      ],
      "execution_count": 52,
      "outputs": [
        {
          "output_type": "stream",
          "name": "stdout",
          "text": [
            "Model: \"sequential\"\n",
            "_________________________________________________________________\n",
            "Layer (type)                 Output Shape              Param #   \n",
            "=================================================================\n",
            "conv1d (Conv1D)              (None, 29, 16)            656       \n",
            "_________________________________________________________________\n",
            "re_lu (ReLU)                 (None, 29, 16)            0         \n",
            "_________________________________________________________________\n",
            "max_pooling1d (MaxPooling1D) (None, 1, 16)             0         \n",
            "_________________________________________________________________\n",
            "flatten (Flatten)            (None, 16)                0         \n",
            "_________________________________________________________________\n",
            "dense (Dense)                (None, 32)                544       \n",
            "_________________________________________________________________\n",
            "re_lu_1 (ReLU)               (None, 32)                0         \n",
            "_________________________________________________________________\n",
            "dropout (Dropout)            (None, 32)                0         \n",
            "_________________________________________________________________\n",
            "dense_1 (Dense)              (None, 1)                 33        \n",
            "=================================================================\n",
            "Total params: 1,233\n",
            "Trainable params: 1,233\n",
            "Non-trainable params: 0\n",
            "_________________________________________________________________\n"
          ]
        },
        {
          "output_type": "stream",
          "name": "stderr",
          "text": [
            "/usr/local/lib/python3.7/dist-packages/keras/optimizer_v2/optimizer_v2.py:356: UserWarning: The `lr` argument is deprecated, use `learning_rate` instead.\n",
            "  \"The `lr` argument is deprecated, use `learning_rate` instead.\")\n"
          ]
        },
        {
          "output_type": "stream",
          "name": "stdout",
          "text": [
            "Epoch 1/10\n",
            "5350/5350 [==============================] - 19s 3ms/step - loss: 0.0871 - auc: 0.9489 - accuracy: 0.8834 - val_loss: 0.0750 - val_auc: 0.9624 - val_accuracy: 0.8974\n",
            "Epoch 2/10\n",
            "5350/5350 [==============================] - 19s 4ms/step - loss: 0.0752 - auc: 0.9611 - accuracy: 0.8981 - val_loss: 0.0746 - val_auc: 0.9641 - val_accuracy: 0.8976\n",
            "Epoch 3/10\n",
            "5350/5350 [==============================] - 17s 3ms/step - loss: 0.0733 - auc: 0.9632 - accuracy: 0.9002 - val_loss: 0.0723 - val_auc: 0.9655 - val_accuracy: 0.9015\n",
            "Epoch 4/10\n",
            "5350/5350 [==============================] - 19s 4ms/step - loss: 0.0723 - auc: 0.9641 - accuracy: 0.9019 - val_loss: 0.0731 - val_auc: 0.9657 - val_accuracy: 0.9000\n",
            "Epoch 5/10\n",
            "5350/5350 [==============================] - 17s 3ms/step - loss: 0.0715 - auc: 0.9647 - accuracy: 0.9034 - val_loss: 0.0731 - val_auc: 0.9658 - val_accuracy: 0.9001\n",
            "Epoch 6/10\n",
            "5350/5350 [==============================] - 19s 3ms/step - loss: 0.0713 - auc: 0.9649 - accuracy: 0.9037 - val_loss: 0.0711 - val_auc: 0.9664 - val_accuracy: 0.9030\n",
            "Epoch 7/10\n",
            "5350/5350 [==============================] - 17s 3ms/step - loss: 0.0708 - auc: 0.9653 - accuracy: 0.9047 - val_loss: 0.0710 - val_auc: 0.9665 - val_accuracy: 0.9037\n",
            "Epoch 8/10\n",
            "5350/5350 [==============================] - 16s 3ms/step - loss: 0.0707 - auc: 0.9655 - accuracy: 0.9050 - val_loss: 0.0700 - val_auc: 0.9671 - val_accuracy: 0.9044\n",
            "Epoch 9/10\n",
            "5350/5350 [==============================] - 19s 3ms/step - loss: 0.0704 - auc: 0.9658 - accuracy: 0.9056 - val_loss: 0.0711 - val_auc: 0.9666 - val_accuracy: 0.9038\n",
            "Epoch 10/10\n",
            "5350/5350 [==============================] - 19s 3ms/step - loss: 0.0699 - auc: 0.9660 - accuracy: 0.9060 - val_loss: 0.0705 - val_auc: 0.9671 - val_accuracy: 0.9037\n"
          ]
        }
      ]
    },
    {
      "cell_type": "code",
      "metadata": {
        "id": "ePlatM7uGMJj",
        "colab": {
          "base_uri": "https://localhost:8080/",
          "height": 295
        },
        "outputId": "206ed652-b9a7-4fc3-e746-7d60f5c8ca7a"
      },
      "source": [
        "# graph\n",
        "import matplotlib.pyplot as plt\n",
        "\n",
        "loss = history.history['loss']\n",
        "val_loss = history.history['val_loss']\n",
        "\n",
        "epochs = range(1,len(loss) + 1)\n",
        "\n",
        "plt.plot(epochs, loss, 'r', label='Training Loss')\n",
        "plt.plot(epochs, val_loss, 'b', label='Validation Loss')\n",
        "plt.title('Training Loss vs Validation Loss')\n",
        "plt.xlabel('Epochs')\n",
        "plt.ylabel('Loss')\n",
        "plt.legend()\n",
        "plt.show()"
      ],
      "execution_count": 53,
      "outputs": [
        {
          "output_type": "display_data",
          "data": {
            "image/png": "[encoded data removed]",
            "text/plain": [
              "<Figure size 432x288 with 1 Axes>"
            ]
          },
          "metadata": {
            "needs_background": "light"
          }
        }
      ]
    },
    {
      "cell_type": "code",
      "metadata": {
        "id": "Ce4porZ3GMJj"
      },
      "source": [
        "model.save(\"./Deepbind.h5\")"
      ],
      "execution_count": 54,
      "outputs": []
    },
    {
      "cell_type": "code",
      "metadata": {
        "id": "JrlbUQcHGMJk"
      },
      "source": [
        ""
      ],
      "execution_count": 54,
      "outputs": []
    }
  ]
}